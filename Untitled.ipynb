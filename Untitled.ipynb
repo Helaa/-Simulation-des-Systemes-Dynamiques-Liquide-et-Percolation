{
 "cells": [
  {
   "cell_type": "markdown",
   "metadata": {},
   "source": [
    "#                                       Liquide et perméabilité"
   ]
  },
  {
   "cell_type": "markdown",
   "metadata": {},
   "source": []
  },
  {
   "cell_type": "markdown",
   "metadata": {},
   "source": [
    "## Introduction"
   ]
  },
  {
   "cell_type": "markdown",
   "metadata": {},
   "source": [
    "La percolation \n",
    "« passer au travers » : désigne communément le passage d'un fluide à travers un milieu plus ou moins perméable, par exemple dans la préparation du café.\n",
    "\n",
    "Ce terme a aussi un sens plus précis en physique et en mathématiques : c'est un processus physique critique qui décrit, pour un système, une transition d’un état vers un autre. "
   ]
  },
  {
   "cell_type": "markdown",
   "metadata": {},
   "source": [
    "La situation peut être modélisée par un réseau carré bidimensionnel dans lequel des sites individuels peuvent être occupés par le milieu ou ils peuvent être vides. La porosité pp est la fraction des sites vides. Le liquide peut traverser le milieu à travers les sites vides adjacents. Par adjacente nous entendons les 4 prochains voisins (haut-gauche-bas-droite) d'un site dans un réseau carré.\n",
    "\n",
    "\n",
    "Demander \"Est-ce que le liquide fait tout le chemin vers le bas?\" est alors équivalent à demander \"Y at-il un chemin de sites vides adjacents qui relie le haut et le bas?\". Il se trouve que c'est une question facile qui, cependant, est très difficile à répondre. Le système particulier ci-dessus (réseau carré 2-d avec 4 voisins) a une porosité critique pc=0.592746\n",
    "Cette porosité correspond aux lois suivantes:\n",
    "* if p < pc : Le liquide n'atteint jamais le fond.\n",
    "* if p > pc : Il l'atteint, d'où la notation Théorie de percolation. "
   ]
  },
  {
   "cell_type": "markdown",
   "metadata": {},
   "source": [
    "fthkjuftkljmfg***"
   ]
  },
  {
   "cell_type": "code",
   "execution_count": 31,
   "metadata": {
    "collapsed": true
   },
   "outputs": [],
   "source": [
    "p= 0.61 ## Cas du sable N5\n",
    "Ro=1 ## Masse volumique de l'eau"
   ]
  },
  {
   "cell_type": "markdown",
   "metadata": {},
   "source": [
    "On initialise la matrice "
   ]
  },
  {
   "cell_type": "code",
   "execution_count": 37,
   "metadata": {
    "collapsed": false
   },
   "outputs": [
    {
     "ename": "IndentationError",
     "evalue": "expected an indented block (<ipython-input-37-5cf95a00384f>, line 9)",
     "output_type": "error",
     "traceback": [
      "\u001b[0;36m  File \u001b[0;32m\"<ipython-input-37-5cf95a00384f>\"\u001b[0;36m, line \u001b[0;32m9\u001b[0m\n\u001b[0;31m    i=np.random(100)\u001b[0m\n\u001b[0m    ^\u001b[0m\n\u001b[0;31mIndentationError\u001b[0m\u001b[0;31m:\u001b[0m expected an indented block\n"
     ]
    }
   ],
   "source": [
    "%matplotlib inline\n",
    "import numpy as np\n",
    "from numpy import random\n",
    "m=np.zeros((100, 100))\n",
    "i=0 \n",
    "j=0\n",
    "for k in range(p*100):\n",
    "    while m[i,j]!=1:\n",
    "    i=np.random(100)\n",
    "    j=np.random(100)\n",
    "    m[i,j]=1\n",
    "\n",
    "print(m)"
   ]
  },
  {
   "cell_type": "code",
   "execution_count": null,
   "metadata": {
    "collapsed": true
   },
   "outputs": [],
   "source": []
  }
 ],
 "metadata": {
  "kernelspec": {
   "display_name": "Python 3",
   "language": "python",
   "name": "python3"
  },
  "language_info": {
   "codemirror_mode": {
    "name": "ipython",
    "version": 3
   },
   "file_extension": ".py",
   "mimetype": "text/x-python",
   "name": "python",
   "nbconvert_exporter": "python",
   "pygments_lexer": "ipython3",
   "version": "3.4.2"
  }
 },
 "nbformat": 4,
 "nbformat_minor": 0
}
